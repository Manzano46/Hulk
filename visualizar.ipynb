{
 "cells": [
  {
   "cell_type": "code",
   "execution_count": 1,
   "metadata": {},
   "outputs": [],
   "source": [
    "from engine.hulk_lexer import HulkLexer\n",
    "from engine.tokens_type import hulk_tokens\n",
    "from engine.grammar import G\n",
    "from cmp.automata import State\n",
    "from engine.regex import Regex, AtomicNode, UnaryNode, BinaryNode\n",
    "from cmp.ast import get_printer\n",
    "\n",
    "printer = get_printer(AtomicNode=AtomicNode, UnaryNode=UnaryNode, BinaryNode=BinaryNode)\n",
    "\n",
    "def pipeline(text):\n",
    "    \n",
    "    expr = '(a|b)*c'\n",
    "    regex = Regex(expr)\n",
    "    automata = regex.automaton()\n",
    "    #display(regex._dfa)\n",
    "    #print(regex._right_parse)\n",
    "    #print(regex._operations)\n",
    "    #print(regex._ast)\n",
    "    #print(printer(regex._ast))\n",
    "    #state = State.from_nfa(automata)\n",
    "    #display(state)\n",
    "    \n",
    "    \n",
    "    hulk_lexer = HulkLexer(hulk_tokens, G.EOF)\n",
    "    #display(hulk_lexer.automaton)\n",
    "    tokens = hulk_lexer(text)\n",
    "    print(tokens)    \n",
    "\n",
    "text = \"print\"\n",
    "hulk_lexer = HulkLexer(hulk_tokens, G.EOF)\n",
    "#pipeline(text)"
   ]
  },
  {
   "cell_type": "code",
   "execution_count": 4,
   "metadata": {},
   "outputs": [
    {
     "name": "stdout",
     "output_type": "stream",
     "text": [
      "[TokenType.FUNCTION: function, TokenType.IDX: fib, TokenType.OPAR: (, TokenType.IDX: n, TokenType.CPAR: ), TokenType.EQUAL: =, TokenType.GREATER: >, TokenType.IF: if, TokenType.OPAR: (, TokenType.IDX: n, TokenType.EQUAL: =, TokenType.EQUAL: =, TokenType.NUM: 0, TokenType.IDX: or, TokenType.IDX: n, TokenType.EQUAL: =, TokenType.EQUAL: =, TokenType.NUM: 1, TokenType.CPAR: ), TokenType.NUM: 1, TokenType.ELSE: else, TokenType.IDX: fib, TokenType.OPAR: (, TokenType.IDX: n, TokenType.MINUS: -, TokenType.NUM: 1, TokenType.CPAR: ), TokenType.PLUS: +, TokenType.IDX: fib, TokenType.OPAR: (, TokenType.IDX: n, TokenType.MINUS: -, TokenType.NUM: 2, TokenType.CPAR: ), TokenType.SEMI: ;, $: $]\n"
     ]
    }
   ],
   "source": [
    "tokens = hulk_lexer(\"function fib(n) => if (n == 0 or n == 1) 1 else fib(n-1) + fib(n-2);\")\n",
    "print(tokens)  "
   ]
  }
 ],
 "metadata": {
  "kernelspec": {
   "display_name": "Python 3",
   "language": "python",
   "name": "python3"
  },
  "language_info": {
   "codemirror_mode": {
    "name": "ipython",
    "version": 3
   },
   "file_extension": ".py",
   "mimetype": "text/x-python",
   "name": "python",
   "nbconvert_exporter": "python",
   "pygments_lexer": "ipython3",
   "version": "3.12.3"
  }
 },
 "nbformat": 4,
 "nbformat_minor": 2
}
