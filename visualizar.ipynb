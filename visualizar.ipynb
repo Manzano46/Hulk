{
 "cells": [
  {
   "cell_type": "code",
   "execution_count": 5,
   "metadata": {},
   "outputs": [
    {
     "name": "stdout",
     "output_type": "stream",
     "text": [
      "\"dot\" with args ['-Tsvg', 'C:\\\\Users\\\\Admin\\\\AppData\\\\Local\\\\Temp\\\\tmp0uynnp_0'] returned code: 1\n",
      "\n",
      "stdout, stderr:\n",
      " b''\n",
      "b\"Error: C:\\\\Users\\\\Admin\\\\AppData\\\\Local\\\\Temp\\\\tmp0uynnp_0: syntax error in line 232 near ','\\r\\n\"\n",
      "\n"
     ]
    },
    {
     "data": {
      "text/plain": [
       "((0, 0, 0, 0, 0, 0, 0, 0, 0, 0, 0, 0, 0, 0, 0, 0, 0, 0, 0, 0, 0, 0, 0, 0, 0, 0, 0, 0, 0, 0, 0, 0, 0, start, 0, 0, 0, 0, 0, 0, 0, 0, 0, 0, 0, 0, 0, 0),)"
      ]
     },
     "metadata": {},
     "output_type": "display_data"
    },
    {
     "name": "stdout",
     "output_type": "stream",
     "text": [
      "None\n"
     ]
    }
   ],
   "source": [
    "from engine.hulk_lexer import HulkLexer\n",
    "from engine.tokens_type import hulk_tokens\n",
    "from engine.grammar import G\n",
    "\n",
    "def pipeline(text):\n",
    "    \n",
    "    hulk_lexer = HulkLexer(hulk_tokens, G.EOF)\n",
    "    #hulk_lexer.automaton.graph().write_png('dfa.png')\n",
    "    \n",
    "    display(hulk_lexer.automaton.to_deterministic())\n",
    "    #tokens = hulk_lexer(text)\n",
    "    \n",
    "    #print(tokens)\n",
    "    \n",
    "text = \"print\"\n",
    "print(pipeline(text))"
   ]
  }
 ],
 "metadata": {
  "kernelspec": {
   "display_name": "Python 3",
   "language": "python",
   "name": "python3"
  },
  "language_info": {
   "codemirror_mode": {
    "name": "ipython",
    "version": 3
   },
   "file_extension": ".py",
   "mimetype": "text/x-python",
   "name": "python",
   "nbconvert_exporter": "python",
   "pygments_lexer": "ipython3",
   "version": "3.12.3"
  }
 },
 "nbformat": 4,
 "nbformat_minor": 2
}
