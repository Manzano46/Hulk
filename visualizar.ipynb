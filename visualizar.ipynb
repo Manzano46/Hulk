{
 "cells": [
  {
   "cell_type": "code",
   "execution_count": null,
   "metadata": {},
   "outputs": [],
   "source": [
    "from engine.hulk_lexer import HulkLexer\n",
    "from engine.tokens_type import hulk_tokens\n",
    "from engine.grammar import G\n",
    "from cmp.automata import State\n",
    "from engine.regex import Regex, AtomicNode, UnaryNode, BinaryNode\n",
    "from cmp.ast import get_printer\n",
    "\n",
    "printer = get_printer(AtomicNode=AtomicNode, UnaryNode=UnaryNode, BinaryNode=BinaryNode)\n",
    "\n",
    "def pipeline(text):\n",
    "    \n",
    "    expr = '(a|b)*c'\n",
    "    regex = Regex(expr)\n",
    "    automata = regex.automaton()\n",
    "    #display(regex._dfa)\n",
    "    #print(regex._right_parse)\n",
    "    #print(regex._operations)\n",
    "    #print(regex._ast)\n",
    "    #print(printer(regex._ast))\n",
    "    #state = State.from_nfa(automata)\n",
    "    #display(state)\n",
    "    \n",
    "    \n",
    "    hulk_lexer = HulkLexer(hulk_tokens, G.EOF)\n",
    "    #display(hulk_lexer.automaton)\n",
    "    tokens = hulk_lexer(text)\n",
    "    print(tokens)    \n",
    "\n",
    "text = \"print\"\n",
    "hulk_lexer = HulkLexer(hulk_tokens, G.EOF)\n",
    "#pipeline(text)"
   ]
  },
  {
   "cell_type": "code",
   "execution_count": null,
   "metadata": {},
   "outputs": [],
   "source": [
    "tokens = hulk_lexer(\"function fib(n) => if (n == 0 or n == 1) 1 else fib(n-1) + fib(n-2);\")\n",
    "print(tokens)  "
   ]
  },
  {
   "cell_type": "code",
   "execution_count": 1,
   "metadata": {},
   "outputs": [],
   "source": [
    "from engine.hulk_lexer import HulkLexer\n",
    "from engine.tokens_type import hulk_tokens\n",
    "from engine.grammar import G\n",
    "from cmp.automata import State\n",
    "from engine.regex import Regex\n",
    "from engine.lr1_parser_generator import LR1Parser\n",
    "from cmp.evaluation import evaluate_reverse_parse\n",
    "\n",
    "\n",
    "\n",
    "hulk_lexer = HulkLexer(hulk_tokens, G.EOF)"
   ]
  },
  {
   "cell_type": "code",
   "execution_count": 2,
   "metadata": {},
   "outputs": [
    {
     "ename": "AssertionError",
     "evalue": "Shift-Reduce or Reduce-Reduce conflict!!!",
     "output_type": "error",
     "traceback": [
      "\u001b[1;31m---------------------------------------------------------------------------\u001b[0m",
      "\u001b[1;31mAssertionError\u001b[0m                            Traceback (most recent call last)",
      "Cell \u001b[1;32mIn[2], line 1\u001b[0m\n\u001b[1;32m----> 1\u001b[0m hulk_parser \u001b[38;5;241m=\u001b[39m \u001b[43mLR1Parser\u001b[49m\u001b[43m(\u001b[49m\u001b[43mG\u001b[49m\u001b[43m)\u001b[49m\n",
      "File \u001b[1;32md:\\escuela\\3er\\segundo semestre\\Compilacion\\proyecto\\Hulk\\engine\\shift_reduce_parser_generator.py:18\u001b[0m, in \u001b[0;36mShiftReduceParser.__init__\u001b[1;34m(self, G, verbose)\u001b[0m\n\u001b[0;32m     16\u001b[0m \u001b[38;5;28mself\u001b[39m\u001b[38;5;241m.\u001b[39maction \u001b[38;5;241m=\u001b[39m {}\n\u001b[0;32m     17\u001b[0m \u001b[38;5;28mself\u001b[39m\u001b[38;5;241m.\u001b[39mgoto \u001b[38;5;241m=\u001b[39m {}\n\u001b[1;32m---> 18\u001b[0m \u001b[38;5;28;43mself\u001b[39;49m\u001b[38;5;241;43m.\u001b[39;49m\u001b[43m_build_parsing_table\u001b[49m\u001b[43m(\u001b[49m\u001b[43m)\u001b[49m\n",
      "File \u001b[1;32md:\\escuela\\3er\\segundo semestre\\Compilacion\\proyecto\\Hulk\\engine\\lr1_parser_generator.py:152\u001b[0m, in \u001b[0;36mLR1Parser._build_parsing_table\u001b[1;34m(self)\u001b[0m\n\u001b[0;32m    150\u001b[0m node_transition_idx \u001b[38;5;241m=\u001b[39m node\u001b[38;5;241m.\u001b[39mget(next_symbol\u001b[38;5;241m.\u001b[39mName)\u001b[38;5;241m.\u001b[39midx\n\u001b[0;32m    151\u001b[0m \u001b[38;5;28;01mif\u001b[39;00m next_symbol\u001b[38;5;241m.\u001b[39mIsTerminal:\n\u001b[1;32m--> 152\u001b[0m    \u001b[38;5;28;43mself\u001b[39;49m\u001b[38;5;241;43m.\u001b[39;49m\u001b[43m_register\u001b[49m\u001b[43m(\u001b[49m\u001b[38;5;28;43mself\u001b[39;49m\u001b[38;5;241;43m.\u001b[39;49m\u001b[43maction\u001b[49m\u001b[43m,\u001b[49m\u001b[43m \u001b[49m\u001b[43m(\u001b[49m\u001b[43mcurrent_idx\u001b[49m\u001b[43m,\u001b[49m\u001b[43m \u001b[49m\u001b[43mnext_symbol\u001b[49m\u001b[43m)\u001b[49m\u001b[43m,\u001b[49m\u001b[43m \u001b[49m\u001b[43m(\u001b[49m\u001b[38;5;28;43mself\u001b[39;49m\u001b[38;5;241;43m.\u001b[39;49m\u001b[43mSHIFT\u001b[49m\u001b[43m,\u001b[49m\u001b[43m \u001b[49m\u001b[43mnode_transition_idx\u001b[49m\u001b[43m)\u001b[49m\u001b[43m)\u001b[49m\n\u001b[0;32m    153\u001b[0m \u001b[38;5;28;01melse\u001b[39;00m:\n\u001b[0;32m    154\u001b[0m    \u001b[38;5;28mself\u001b[39m\u001b[38;5;241m.\u001b[39m_register(\u001b[38;5;28mself\u001b[39m\u001b[38;5;241m.\u001b[39mgoto, (current_idx, next_symbol), node_transition_idx)\n",
      "File \u001b[1;32md:\\escuela\\3er\\segundo semestre\\Compilacion\\proyecto\\Hulk\\engine\\lr1_parser_generator.py:158\u001b[0m, in \u001b[0;36mLR1Parser._register\u001b[1;34m(table, key, value)\u001b[0m\n\u001b[0;32m    156\u001b[0m \u001b[38;5;129m@staticmethod\u001b[39m\n\u001b[0;32m    157\u001b[0m \u001b[38;5;28;01mdef\u001b[39;00m \u001b[38;5;21m_register\u001b[39m(table, key, value):\n\u001b[1;32m--> 158\u001b[0m    \u001b[38;5;28;01massert\u001b[39;00m key \u001b[38;5;129;01mnot\u001b[39;00m \u001b[38;5;129;01min\u001b[39;00m table \u001b[38;5;129;01mor\u001b[39;00m table[key] \u001b[38;5;241m==\u001b[39m value, \u001b[38;5;124m'\u001b[39m\u001b[38;5;124mShift-Reduce or Reduce-Reduce conflict!!!\u001b[39m\u001b[38;5;124m'\u001b[39m\n\u001b[0;32m    159\u001b[0m    table[key] \u001b[38;5;241m=\u001b[39m value\n",
      "\u001b[1;31mAssertionError\u001b[0m: Shift-Reduce or Reduce-Reduce conflict!!!"
     ]
    }
   ],
   "source": [
    "hulk_parser = LR1Parser(G)"
   ]
  },
  {
   "cell_type": "code",
   "execution_count": 3,
   "metadata": {},
   "outputs": [
    {
     "name": "stdout",
     "output_type": "stream",
     "text": [
      "[TokenType.FUNCTION: function, TokenType.IDX: fib, TokenType.OPAR: (, TokenType.IDX: n, TokenType.CPAR: ), TokenType.EQUAL: =, TokenType.GREATER: >, TokenType.IF: if, TokenType.OPAR: (, TokenType.IDX: n, TokenType.EQUAL: =, TokenType.EQUAL: =, TokenType.NUM: 0, TokenType.IDX: or, TokenType.IDX: n, TokenType.EQUAL: =, TokenType.EQUAL: =, TokenType.NUM: 1, TokenType.CPAR: ), TokenType.NUM: 1, TokenType.ELSE: else, TokenType.IDX: fib, TokenType.OPAR: (, TokenType.IDX: n, TokenType.MINUS: -, TokenType.NUM: 1, TokenType.CPAR: ), TokenType.PLUS: +, TokenType.IDX: fib, TokenType.OPAR: (, TokenType.IDX: n, TokenType.MINUS: -, TokenType.NUM: 2, TokenType.CPAR: ), TokenType.SEMI: ;, $: $]\n"
     ]
    }
   ],
   "source": [
    "tokens = hulk_lexer(\"function fib(n) => if (n == 0 or n == 1) 1 else fib(n-1) + fib(n-2);\")\n",
    "print(tokens)  "
   ]
  },
  {
   "cell_type": "code",
   "execution_count": null,
   "metadata": {},
   "outputs": [],
   "source": [
    "text = \"print(\\\"hola \\\")\"\n",
    "print(pipeline(text))\n",
    "\n",
    "tokens = hulk_lexer(text)\n",
    "right_parse, operations = hulk_parser([token.token_type for token in tokens], True)\n",
    "ast = evaluate_reverse_parse(right_parse, operations, tokens)\n",
    "    \n",
    "print(ast)\n"
   ]
  }
 ],
 "metadata": {
  "kernelspec": {
   "display_name": "Python 3",
   "language": "python",
   "name": "python3"
  },
  "language_info": {
   "codemirror_mode": {
    "name": "ipython",
    "version": 3
   },
   "file_extension": ".py",
   "mimetype": "text/x-python",
   "name": "python",
   "nbconvert_exporter": "python",
   "pygments_lexer": "ipython3",
   "version": "3.12.3"
  }
 },
 "nbformat": 4,
 "nbformat_minor": 2
}
